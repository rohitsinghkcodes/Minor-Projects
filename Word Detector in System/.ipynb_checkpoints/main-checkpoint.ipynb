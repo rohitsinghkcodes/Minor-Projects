{
 "cells": [
  {
   "cell_type": "code",
   "execution_count": 2,
   "source": [
    "#importing the modules\r\n",
    "import os"
   ],
   "outputs": [],
   "metadata": {}
  },
  {
   "cell_type": "markdown",
   "source": [],
   "metadata": {}
  },
  {
   "cell_type": "code",
   "execution_count": 3,
   "source": [
    "dir_contents = os.listdir()\r\n",
    "\r\n",
    "#printing the contents of dir\r\n",
    "print(dir_contents)"
   ],
   "outputs": [
    {
     "output_type": "stream",
     "name": "stdout",
     "text": [
      "['main-checkpoint.ipynb']\n"
     ]
    }
   ],
   "metadata": {}
  },
  {
   "cell_type": "code",
   "execution_count": 4,
   "source": [
    "#function for checking the presence\r\n",
    "def wordCheck(fileName,word):\r\n",
    "    with open(fileName,'r') as f:\r\n",
    "        fileContent = f.read()\r\n",
    "    \r\n",
    "    #Detectinf the word\r\n",
    "    if word.lower() in fileContent.lower():\r\n",
    "        return True\r\n",
    "    else:\r\n",
    "        return False\r\n",
    "        "
   ],
   "outputs": [],
   "metadata": {}
  },
  {
   "cell_type": "code",
   "execution_count": null,
   "source": [
    "def detection():\r\n",
    "    #for the input of word to be checked in the files\r\n",
    "    word = input('Enter the word to be scanned: ')\r\n",
    "\r\n",
    "    nWordCount = 0\r\n",
    "    #for detection system\r\n",
    "    for item in dir_contents:\r\n",
    "        if item.endswith('txt'):\r\n",
    "            print(f'\\nDetecting {word} in {item} ...')\r\n",
    "            setFlag = wordCheck(item,word)\r\n",
    "            if (setFlag):\r\n",
    "                print(f'=> {word} FOUND in {item}')\r\n",
    "                nWordCount+=1\r\n",
    "            else:\r\n",
    "                print(f'=> {word} NOT FOUND in {item}')\r\n",
    "\r\n",
    "\r\n",
    "    #for printing the summary\r\n",
    "    print('\\n*****PRINTING THE SCANNING SUMMARY*****\\n')\r\n",
    "    print(f'--> {nWordCount} files found containing {word} in them')\r\n",
    "    \r\n",
    "    #for enterring more choice\r\n",
    "    choice  = input('Do you want to search more?\\nyes/no')"
   ],
   "outputs": [],
   "metadata": {}
  },
  {
   "cell_type": "code",
   "execution_count": 5,
   "source": [
    "#Detection system main \n",
    "choice = 'yes'\n",
    "while(choice.lower()=='yes'):\n",
    "    detection()"
   ],
   "outputs": [
    {
     "output_type": "error",
     "ename": "NameError",
     "evalue": "name 'detection' is not defined",
     "traceback": [
      "\u001b[1;31m---------------------------------------------------------------------------\u001b[0m",
      "\u001b[1;31mNameError\u001b[0m                                 Traceback (most recent call last)",
      "\u001b[1;32m<ipython-input-5-b15883dfe479>\u001b[0m in \u001b[0;36m<module>\u001b[1;34m\u001b[0m\n\u001b[0;32m      2\u001b[0m \u001b[0mchoice\u001b[0m \u001b[1;33m=\u001b[0m \u001b[1;34m'yes'\u001b[0m\u001b[1;33m\u001b[0m\u001b[1;33m\u001b[0m\u001b[0m\n\u001b[0;32m      3\u001b[0m \u001b[1;32mwhile\u001b[0m\u001b[1;33m(\u001b[0m\u001b[0mchoice\u001b[0m\u001b[1;33m.\u001b[0m\u001b[0mlower\u001b[0m\u001b[1;33m(\u001b[0m\u001b[1;33m)\u001b[0m\u001b[1;33m==\u001b[0m\u001b[1;34m'yes'\u001b[0m\u001b[1;33m)\u001b[0m\u001b[1;33m:\u001b[0m\u001b[1;33m\u001b[0m\u001b[1;33m\u001b[0m\u001b[0m\n\u001b[1;32m----> 4\u001b[1;33m     \u001b[0mdetection\u001b[0m\u001b[1;33m(\u001b[0m\u001b[1;33m)\u001b[0m\u001b[1;33m\u001b[0m\u001b[1;33m\u001b[0m\u001b[0m\n\u001b[0m",
      "\u001b[1;31mNameError\u001b[0m: name 'detection' is not defined"
     ]
    }
   ],
   "metadata": {}
  },
  {
   "cell_type": "code",
   "execution_count": null,
   "source": [],
   "outputs": [],
   "metadata": {}
  }
 ],
 "metadata": {
  "kernelspec": {
   "name": "python390jvsc74a57bd063fd5069d213b44bf678585dea6b12cceca9941eaf7f819626cde1f2670de90d",
   "display_name": "Python 3.9.0 64-bit"
  },
  "language_info": {
   "codemirror_mode": {
    "name": "ipython",
    "version": 3
   },
   "file_extension": ".py",
   "mimetype": "text/x-python",
   "name": "python",
   "nbconvert_exporter": "python",
   "pygments_lexer": "ipython3",
   "version": "3.9.0"
  },
  "metadata": {
   "interpreter": {
    "hash": "63fd5069d213b44bf678585dea6b12cceca9941eaf7f819626cde1f2670de90d"
   }
  }
 },
 "nbformat": 4,
 "nbformat_minor": 4
}